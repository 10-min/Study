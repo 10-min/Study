{
 "cells": [
  {
   "cell_type": "code",
   "execution_count": 2,
   "metadata": {},
   "outputs": [],
   "source": [
    "# Big Bang Theory 웹 크롤링"
   ]
  },
  {
   "cell_type": "markdown",
   "metadata": {},
   "source": [
    "## Library import 및 Soup 가져오기 함수 정의\n",
    "- Big Bang Theory 시즌별 에피소드가 있는 페이지를 가져온 후 시즌을 추출"
   ]
  },
  {
   "cell_type": "code",
   "execution_count": 3,
   "metadata": {},
   "outputs": [
    {
     "data": {
      "text/plain": [
       "['1', '2', '3', '4', '5', '6', '7', '8', '9', '10', '11', '12', 'Unknown']"
      ]
     },
     "execution_count": 3,
     "metadata": {},
     "output_type": "execute_result"
    }
   ],
   "source": [
    "import urllib\n",
    "from urllib.request import urlopen\n",
    "from urllib.request import Request\n",
    "from bs4 import BeautifulSoup\n",
    "import pandas as pd\n",
    "import re\n",
    "\n",
    "def getHtmlFromUrl(url):\n",
    "    req = Request(url=url, headers={\"User-agent\":\"Mozilla/5.0\"})\n",
    "    res = urlopen(req)\n",
    "    return BeautifulSoup(res, \"html.parser\")\n",
    "prefix = \"https://www.imdb.com/title/tt0898266/episodes/?\"\n",
    "\n",
    "html = getHtmlFromUrl(prefix)\n",
    "\n",
    "season_html = html.find(class_=\"ipc-tabs ipc-tabs--base ipc-tabs--align-left\").find_all('a')\n",
    "\n",
    "def getSeasonFromHtml(html):\n",
    "    season = []\n",
    "    for s in html:\n",
    "        season.append(s.string)\n",
    "    return season\n",
    "season = getSeasonFromHtml(season_html)\n",
    "\n",
    "pattern = \"^S[0-9]+.E[0-9]+\"\n",
    "season\n"
   ]
  },
  {
   "cell_type": "markdown",
   "metadata": {},
   "source": [
    "## 필요 함수 정의"
   ]
  },
  {
   "cell_type": "code",
   "execution_count": 6,
   "metadata": {},
   "outputs": [],
   "source": [
    "episodeNameClass = \"sc-56c21e9b-0 eoThov\"\n",
    "\n",
    "def getEpisodeHtml(html):\n",
    "    return html.find(class_=episodeNameClass).find_all(\"article\")\n",
    "\n",
    "def getEpisodeNameFromHtml(episodeHtml):\n",
    "    return episodeHtml.find(class_=\"ipc-title__text\").getText()\n",
    "\n",
    "def getRateFromHtml(episodeHtml):\n",
    "    return episodeHtml.find(class_=\"ipc-rating-star--rating\").getText()\n",
    "\n",
    "def getDateFromHtml(episodeHtml):\n",
    "    return episodeHtml.find(class_=\"sc-f2169d65-10 bYaARM\").getText()\n",
    "\n",
    "\n"
   ]
  },
  {
   "cell_type": "markdown",
   "metadata": {},
   "source": [
    "## 데이터 추출\n",
    "- 에피소드 목록 페이지에서 시즌별 에피소드, 방영날짜, 평점, season 추출 후 DataFrame으로 만듦"
   ]
  },
  {
   "cell_type": "code",
   "execution_count": 7,
   "metadata": {},
   "outputs": [
    {
     "data": {
      "text/html": [
       "<div>\n",
       "<style scoped>\n",
       "    .dataframe tbody tr th:only-of-type {\n",
       "        vertical-align: middle;\n",
       "    }\n",
       "\n",
       "    .dataframe tbody tr th {\n",
       "        vertical-align: top;\n",
       "    }\n",
       "\n",
       "    .dataframe thead th {\n",
       "        text-align: right;\n",
       "    }\n",
       "</style>\n",
       "<table border=\"1\" class=\"dataframe\">\n",
       "  <thead>\n",
       "    <tr style=\"text-align: right;\">\n",
       "      <th></th>\n",
       "      <th>Season</th>\n",
       "      <th>Episode</th>\n",
       "      <th>Rate</th>\n",
       "      <th>Date</th>\n",
       "    </tr>\n",
       "  </thead>\n",
       "  <tbody>\n",
       "    <tr>\n",
       "      <th>0</th>\n",
       "      <td>1</td>\n",
       "      <td>1</td>\n",
       "      <td>8.1</td>\n",
       "      <td>Sun, Sep 23, 2007</td>\n",
       "    </tr>\n",
       "    <tr>\n",
       "      <th>1</th>\n",
       "      <td>1</td>\n",
       "      <td>2</td>\n",
       "      <td>8.2</td>\n",
       "      <td>Sun, Sep 30, 2007</td>\n",
       "    </tr>\n",
       "    <tr>\n",
       "      <th>2</th>\n",
       "      <td>1</td>\n",
       "      <td>3</td>\n",
       "      <td>7.6</td>\n",
       "      <td>Sun, Oct 7, 2007</td>\n",
       "    </tr>\n",
       "    <tr>\n",
       "      <th>3</th>\n",
       "      <td>1</td>\n",
       "      <td>4</td>\n",
       "      <td>8.0</td>\n",
       "      <td>Sun, Oct 14, 2007</td>\n",
       "    </tr>\n",
       "    <tr>\n",
       "      <th>4</th>\n",
       "      <td>1</td>\n",
       "      <td>5</td>\n",
       "      <td>7.8</td>\n",
       "      <td>Sun, Oct 21, 2007</td>\n",
       "    </tr>\n",
       "    <tr>\n",
       "      <th>...</th>\n",
       "      <td>...</td>\n",
       "      <td>...</td>\n",
       "      <td>...</td>\n",
       "      <td>...</td>\n",
       "    </tr>\n",
       "    <tr>\n",
       "      <th>275</th>\n",
       "      <td>12</td>\n",
       "      <td>21</td>\n",
       "      <td>7.2</td>\n",
       "      <td>Wed, May 1, 2019</td>\n",
       "    </tr>\n",
       "    <tr>\n",
       "      <th>276</th>\n",
       "      <td>12</td>\n",
       "      <td>22</td>\n",
       "      <td>7.9</td>\n",
       "      <td>Wed, May 8, 2019</td>\n",
       "    </tr>\n",
       "    <tr>\n",
       "      <th>277</th>\n",
       "      <td>12</td>\n",
       "      <td>23</td>\n",
       "      <td>9.0</td>\n",
       "      <td>Wed, May 15, 2019</td>\n",
       "    </tr>\n",
       "    <tr>\n",
       "      <th>278</th>\n",
       "      <td>12</td>\n",
       "      <td>24</td>\n",
       "      <td>9.5</td>\n",
       "      <td>Wed, May 15, 2019</td>\n",
       "    </tr>\n",
       "    <tr>\n",
       "      <th>279</th>\n",
       "      <td>Unknown</td>\n",
       "      <td>1</td>\n",
       "      <td>6.5</td>\n",
       "      <td>Sat, Jun 29, 2019</td>\n",
       "    </tr>\n",
       "  </tbody>\n",
       "</table>\n",
       "<p>280 rows × 4 columns</p>\n",
       "</div>"
      ],
      "text/plain": [
       "      Season  Episode Rate               Date\n",
       "0          1        1  8.1  Sun, Sep 23, 2007\n",
       "1          1        2  8.2  Sun, Sep 30, 2007\n",
       "2          1        3  7.6   Sun, Oct 7, 2007\n",
       "3          1        4  8.0  Sun, Oct 14, 2007\n",
       "4          1        5  7.8  Sun, Oct 21, 2007\n",
       "..       ...      ...  ...                ...\n",
       "275       12       21  7.2   Wed, May 1, 2019\n",
       "276       12       22  7.9   Wed, May 8, 2019\n",
       "277       12       23  9.0  Wed, May 15, 2019\n",
       "278       12       24  9.5  Wed, May 15, 2019\n",
       "279  Unknown        1  6.5  Sat, Jun 29, 2019\n",
       "\n",
       "[280 rows x 4 columns]"
      ]
     },
     "execution_count": 7,
     "metadata": {},
     "output_type": "execute_result"
    }
   ],
   "source": [
    "episodeList = []\n",
    "dateList = []\n",
    "rateList = []\n",
    "seasonList = []\n",
    "\n",
    "for seasonIdx in season:\n",
    "    url = prefix + \"season=\" + str(seasonIdx)\n",
    "    html = getHtmlFromUrl(url)\n",
    "    \n",
    "    for idx, episodeHtml in enumerate(getEpisodeHtml(html)):\n",
    "        episodeName =  getEpisodeNameFromHtml(episodeHtml)\n",
    "        episode = idx + 1\n",
    "        rate = getRateFromHtml(episodeHtml)\n",
    "        date = getDateFromHtml(episodeHtml)\n",
    "        episodeList.append(episode)\n",
    "        rateList.append(rate)\n",
    "        dateList.append(date)\n",
    "        seasonList.append(seasonIdx)\n",
    "data = {\"Season\":seasonList, \"Episode\":episodeList, \"Rate\":rateList, \"Date\":dateList}\n",
    "df = pd.DataFrame(data)\n",
    "df"
   ]
  },
  {
   "cell_type": "markdown",
   "metadata": {},
   "source": [
    "## 에피소드 상세내용 페이지\n",
    "- 상세내용 페이지로 들어간 후 Top Cast Actor 이름 추출 테스트"
   ]
  },
  {
   "cell_type": "code",
   "execution_count": 57,
   "metadata": {},
   "outputs": [
    {
     "data": {
      "text/plain": [
       "['Johnny Galecki, Jim Parsons, Kaley Cuoco, Simon Helberg, Kunal Nayyar, Vernee Watson, Brian Patrick Wade']"
      ]
     },
     "execution_count": 57,
     "metadata": {},
     "output_type": "execute_result"
    }
   ],
   "source": [
    "prefix = \"https://www.imdb.com\"\n",
    "url = prefix + \"/title/tt0898266/episodes/?season=\" + '1'\n",
    "html = getHtmlFromUrl(url)\n",
    "\n",
    "episode = getEpisodeHtml(html)[0]\n",
    "url = prefix + episode.find('a')[\"href\"]\n",
    "html = getHtmlFromUrl(url)\n",
    "title = html.find(class_=\"hero__primary-text\").string\n",
    "title\n",
    "topcastList = []\n",
    "actors = html.find_all(class_=\"sc-cd7dc4b7-7 vCane\")\n",
    "actor = html.find(class_=\"sc-cd7dc4b7-7 vCane\").find('a').string\n",
    "topcast = \"\"\n",
    "for idx, actor in enumerate(actors):\n",
    "    actor = actor.find('a').string\n",
    "    if idx == 0:\n",
    "        topcast += actor.string\n",
    "    else:\n",
    "        topcast += (\", \" + actor.string)\n",
    "topcastList.append(topcast)\n",
    "topcastList\n"
   ]
  },
  {
   "cell_type": "markdown",
   "metadata": {},
   "source": [
    "## 타이틀 및 출연자 추출\n",
    "- 테스트를 바탕으로 Title 및 Top Cast 추출"
   ]
  },
  {
   "cell_type": "code",
   "execution_count": 59,
   "metadata": {},
   "outputs": [
    {
     "name": "stderr",
     "output_type": "stream",
     "text": [
      "100%|██████████| 13/13 [10:15<00:00, 47.35s/it]\n"
     ]
    },
    {
     "data": {
      "text/plain": [
       "(280, 280)"
      ]
     },
     "execution_count": 59,
     "metadata": {},
     "output_type": "execute_result"
    }
   ],
   "source": [
    "from tqdm import tqdm\n",
    "titleList = []\n",
    "topcastList = []\n",
    "prefix = \"https://www.imdb.com\"\n",
    "for seasonIdx in tqdm(season, total=len(season)):\n",
    "    url = prefix + \"/title/tt0898266/episodes/?season=\" + str(seasonIdx)\n",
    "    html = getHtmlFromUrl(url)\n",
    "    episodes = getEpisodeHtml(html)\n",
    "\n",
    "    for episode in episodes:\n",
    "        url = prefix + episode.find('a')[\"href\"]\n",
    "        html = getHtmlFromUrl(url)\n",
    "        title = html.find(class_=\"hero__primary-text\").string\n",
    "        titleList.append(title)\n",
    "        actors = html.find_all(class_=\"sc-cd7dc4b7-7 vCane\")\n",
    "        topcast = \"\"\n",
    "        for idx, actor in enumerate(actors):\n",
    "            actor = actor.find('a').string\n",
    "            if idx == 0:\n",
    "                topcast += actor.string\n",
    "            else:\n",
    "                topcast += (\", \" + actor.string)\n",
    "        topcastList.append(topcast)\n",
    "\n",
    "len(titleList), len(topcastList)"
   ]
  },
  {
   "cell_type": "markdown",
   "metadata": {},
   "source": [
    "## DataFrame 정리\n",
    "- 추가된 내용을 DataFrame에 넣고 Column 정리"
   ]
  },
  {
   "cell_type": "code",
   "execution_count": 60,
   "metadata": {},
   "outputs": [
    {
     "data": {
      "text/html": [
       "<div>\n",
       "<style scoped>\n",
       "    .dataframe tbody tr th:only-of-type {\n",
       "        vertical-align: middle;\n",
       "    }\n",
       "\n",
       "    .dataframe tbody tr th {\n",
       "        vertical-align: top;\n",
       "    }\n",
       "\n",
       "    .dataframe thead th {\n",
       "        text-align: right;\n",
       "    }\n",
       "</style>\n",
       "<table border=\"1\" class=\"dataframe\">\n",
       "  <thead>\n",
       "    <tr style=\"text-align: right;\">\n",
       "      <th></th>\n",
       "      <th>Season</th>\n",
       "      <th>Episode</th>\n",
       "      <th>Title</th>\n",
       "      <th>Top Cast</th>\n",
       "      <th>Rate</th>\n",
       "      <th>Date</th>\n",
       "    </tr>\n",
       "  </thead>\n",
       "  <tbody>\n",
       "    <tr>\n",
       "      <th>0</th>\n",
       "      <td>1</td>\n",
       "      <td>1</td>\n",
       "      <td>Pilot</td>\n",
       "      <td>Johnny Galecki, Jim Parsons, Kaley Cuoco, Simo...</td>\n",
       "      <td>8.1</td>\n",
       "      <td>8.1</td>\n",
       "    </tr>\n",
       "    <tr>\n",
       "      <th>1</th>\n",
       "      <td>1</td>\n",
       "      <td>2</td>\n",
       "      <td>The Big Bran Hypothesis</td>\n",
       "      <td>Johnny Galecki, Jim Parsons, Kaley Cuoco, Simo...</td>\n",
       "      <td>8.2</td>\n",
       "      <td>8.2</td>\n",
       "    </tr>\n",
       "    <tr>\n",
       "      <th>2</th>\n",
       "      <td>1</td>\n",
       "      <td>3</td>\n",
       "      <td>The Fuzzy Boots Corollary</td>\n",
       "      <td>Johnny Galecki, Jim Parsons, Kaley Cuoco, Simo...</td>\n",
       "      <td>7.6</td>\n",
       "      <td>7.6</td>\n",
       "    </tr>\n",
       "    <tr>\n",
       "      <th>3</th>\n",
       "      <td>1</td>\n",
       "      <td>4</td>\n",
       "      <td>The Luminous Fish Effect</td>\n",
       "      <td>Johnny Galecki, Jim Parsons, Kaley Cuoco, Simo...</td>\n",
       "      <td>8.0</td>\n",
       "      <td>8.0</td>\n",
       "    </tr>\n",
       "    <tr>\n",
       "      <th>4</th>\n",
       "      <td>1</td>\n",
       "      <td>5</td>\n",
       "      <td>The Hamburger Postulate</td>\n",
       "      <td>Johnny Galecki, Jim Parsons, Kaley Cuoco, Simo...</td>\n",
       "      <td>7.8</td>\n",
       "      <td>7.8</td>\n",
       "    </tr>\n",
       "  </tbody>\n",
       "</table>\n",
       "</div>"
      ],
      "text/plain": [
       "  Season  Episode                      Title  \\\n",
       "0      1        1                      Pilot   \n",
       "1      1        2    The Big Bran Hypothesis   \n",
       "2      1        3  The Fuzzy Boots Corollary   \n",
       "3      1        4   The Luminous Fish Effect   \n",
       "4      1        5    The Hamburger Postulate   \n",
       "\n",
       "                                            Top Cast Rate Date  \n",
       "0  Johnny Galecki, Jim Parsons, Kaley Cuoco, Simo...  8.1  8.1  \n",
       "1  Johnny Galecki, Jim Parsons, Kaley Cuoco, Simo...  8.2  8.2  \n",
       "2  Johnny Galecki, Jim Parsons, Kaley Cuoco, Simo...  7.6  7.6  \n",
       "3  Johnny Galecki, Jim Parsons, Kaley Cuoco, Simo...  8.0  8.0  \n",
       "4  Johnny Galecki, Jim Parsons, Kaley Cuoco, Simo...  7.8  7.8  "
      ]
     },
     "execution_count": 60,
     "metadata": {},
     "output_type": "execute_result"
    }
   ],
   "source": [
    "df[\"Title\"] = titleList\n",
    "df[\"Top Cast\"] = topcastList\n",
    "df = df.loc[:, [\"Season\", \"Episode\", \"Title\", \"Top Cast\", \"Rate\", \"Date\"]]\n",
    "df.head()"
   ]
  }
 ],
 "metadata": {
  "kernelspec": {
   "display_name": "eda_venv",
   "language": "python",
   "name": "python3"
  },
  "language_info": {
   "codemirror_mode": {
    "name": "ipython",
    "version": 3
   },
   "file_extension": ".py",
   "mimetype": "text/x-python",
   "name": "python",
   "nbconvert_exporter": "python",
   "pygments_lexer": "ipython3",
   "version": "3.10.12"
  }
 },
 "nbformat": 4,
 "nbformat_minor": 2
}
